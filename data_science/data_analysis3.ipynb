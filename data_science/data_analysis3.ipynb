{
 "cells": [
  {
   "cell_type": "code",
   "execution_count": 1,
   "metadata": {},
   "outputs": [],
   "source": [
    "import pandas as pd\n",
    "import numpy as np\n",
    "import matplotlib.pyplot as plt"
   ]
  },
  {
   "cell_type": "code",
   "execution_count": 5,
   "metadata": {},
   "outputs": [],
   "source": [
    "df = pd.read_csv('cps_85_wages.csv')"
   ]
  },
  {
   "cell_type": "code",
   "execution_count": 7,
   "metadata": {},
   "outputs": [
    {
     "name": "stdout",
     "output_type": "stream",
     "text": [
      "<class 'pandas.core.frame.DataFrame'>\n",
      "RangeIndex: 534 entries, 0 to 533\n",
      "Data columns (total 11 columns):\n",
      " #   Column      Non-Null Count  Dtype  \n",
      "---  ------      --------------  -----  \n",
      " 0   EDUCATION   534 non-null    int64  \n",
      " 1   SOUTH       534 non-null    object \n",
      " 2   SEX         534 non-null    object \n",
      " 3   EXPERIENCE  534 non-null    int64  \n",
      " 4   UNION       534 non-null    object \n",
      " 5   WAGE        534 non-null    float64\n",
      " 6   AGE         534 non-null    int64  \n",
      " 7   RACE        534 non-null    object \n",
      " 8   OCCUPATION  534 non-null    object \n",
      " 9   SECTOR      534 non-null    object \n",
      " 10  MARR        534 non-null    object \n",
      "dtypes: float64(1), int64(3), object(7)\n",
      "memory usage: 46.0+ KB\n"
     ]
    }
   ],
   "source": [
    "df.info()"
   ]
  },
  {
   "cell_type": "code",
   "execution_count": 8,
   "metadata": {},
   "outputs": [
    {
     "data": {
      "text/html": [
       "<div>\n",
       "<style scoped>\n",
       "    .dataframe tbody tr th:only-of-type {\n",
       "        vertical-align: middle;\n",
       "    }\n",
       "\n",
       "    .dataframe tbody tr th {\n",
       "        vertical-align: top;\n",
       "    }\n",
       "\n",
       "    .dataframe thead th {\n",
       "        text-align: right;\n",
       "    }\n",
       "</style>\n",
       "<table border=\"1\" class=\"dataframe\">\n",
       "  <thead>\n",
       "    <tr style=\"text-align: right;\">\n",
       "      <th></th>\n",
       "      <th>EDUCATION</th>\n",
       "      <th>EXPERIENCE</th>\n",
       "      <th>WAGE</th>\n",
       "      <th>AGE</th>\n",
       "    </tr>\n",
       "  </thead>\n",
       "  <tbody>\n",
       "    <tr>\n",
       "      <th>count</th>\n",
       "      <td>534.000000</td>\n",
       "      <td>534.000000</td>\n",
       "      <td>534.000000</td>\n",
       "      <td>534.000000</td>\n",
       "    </tr>\n",
       "    <tr>\n",
       "      <th>mean</th>\n",
       "      <td>13.018727</td>\n",
       "      <td>17.822097</td>\n",
       "      <td>9.024064</td>\n",
       "      <td>36.833333</td>\n",
       "    </tr>\n",
       "    <tr>\n",
       "      <th>std</th>\n",
       "      <td>2.615373</td>\n",
       "      <td>12.379710</td>\n",
       "      <td>5.139097</td>\n",
       "      <td>11.726573</td>\n",
       "    </tr>\n",
       "    <tr>\n",
       "      <th>min</th>\n",
       "      <td>2.000000</td>\n",
       "      <td>0.000000</td>\n",
       "      <td>1.000000</td>\n",
       "      <td>18.000000</td>\n",
       "    </tr>\n",
       "    <tr>\n",
       "      <th>25%</th>\n",
       "      <td>12.000000</td>\n",
       "      <td>8.000000</td>\n",
       "      <td>5.250000</td>\n",
       "      <td>28.000000</td>\n",
       "    </tr>\n",
       "    <tr>\n",
       "      <th>50%</th>\n",
       "      <td>12.000000</td>\n",
       "      <td>15.000000</td>\n",
       "      <td>7.780000</td>\n",
       "      <td>35.000000</td>\n",
       "    </tr>\n",
       "    <tr>\n",
       "      <th>75%</th>\n",
       "      <td>15.000000</td>\n",
       "      <td>26.000000</td>\n",
       "      <td>11.250000</td>\n",
       "      <td>44.000000</td>\n",
       "    </tr>\n",
       "    <tr>\n",
       "      <th>max</th>\n",
       "      <td>18.000000</td>\n",
       "      <td>55.000000</td>\n",
       "      <td>44.500000</td>\n",
       "      <td>64.000000</td>\n",
       "    </tr>\n",
       "  </tbody>\n",
       "</table>\n",
       "</div>"
      ],
      "text/plain": [
       "        EDUCATION  EXPERIENCE        WAGE         AGE\n",
       "count  534.000000  534.000000  534.000000  534.000000\n",
       "mean    13.018727   17.822097    9.024064   36.833333\n",
       "std      2.615373   12.379710    5.139097   11.726573\n",
       "min      2.000000    0.000000    1.000000   18.000000\n",
       "25%     12.000000    8.000000    5.250000   28.000000\n",
       "50%     12.000000   15.000000    7.780000   35.000000\n",
       "75%     15.000000   26.000000   11.250000   44.000000\n",
       "max     18.000000   55.000000   44.500000   64.000000"
      ]
     },
     "execution_count": 8,
     "metadata": {},
     "output_type": "execute_result"
    }
   ],
   "source": [
    "df.describe()"
   ]
  },
  {
   "cell_type": "code",
   "execution_count": 9,
   "metadata": {},
   "outputs": [
    {
     "data": {
      "text/html": [
       "<div>\n",
       "<style scoped>\n",
       "    .dataframe tbody tr th:only-of-type {\n",
       "        vertical-align: middle;\n",
       "    }\n",
       "\n",
       "    .dataframe tbody tr th {\n",
       "        vertical-align: top;\n",
       "    }\n",
       "\n",
       "    .dataframe thead th {\n",
       "        text-align: right;\n",
       "    }\n",
       "</style>\n",
       "<table border=\"1\" class=\"dataframe\">\n",
       "  <thead>\n",
       "    <tr style=\"text-align: right;\">\n",
       "      <th></th>\n",
       "      <th>EDUCATION</th>\n",
       "      <th>SOUTH</th>\n",
       "      <th>SEX</th>\n",
       "      <th>EXPERIENCE</th>\n",
       "      <th>UNION</th>\n",
       "      <th>WAGE</th>\n",
       "      <th>AGE</th>\n",
       "      <th>RACE</th>\n",
       "      <th>OCCUPATION</th>\n",
       "      <th>SECTOR</th>\n",
       "      <th>MARR</th>\n",
       "    </tr>\n",
       "  </thead>\n",
       "  <tbody>\n",
       "    <tr>\n",
       "      <th>0</th>\n",
       "      <td>8</td>\n",
       "      <td>no</td>\n",
       "      <td>female</td>\n",
       "      <td>21</td>\n",
       "      <td>not_member</td>\n",
       "      <td>5.10</td>\n",
       "      <td>35</td>\n",
       "      <td>Hispanic</td>\n",
       "      <td>Other</td>\n",
       "      <td>Manufacturing</td>\n",
       "      <td>Married</td>\n",
       "    </tr>\n",
       "    <tr>\n",
       "      <th>1</th>\n",
       "      <td>9</td>\n",
       "      <td>no</td>\n",
       "      <td>female</td>\n",
       "      <td>42</td>\n",
       "      <td>not_member</td>\n",
       "      <td>4.95</td>\n",
       "      <td>57</td>\n",
       "      <td>White</td>\n",
       "      <td>Other</td>\n",
       "      <td>Manufacturing</td>\n",
       "      <td>Married</td>\n",
       "    </tr>\n",
       "    <tr>\n",
       "      <th>2</th>\n",
       "      <td>12</td>\n",
       "      <td>no</td>\n",
       "      <td>male</td>\n",
       "      <td>1</td>\n",
       "      <td>not_member</td>\n",
       "      <td>6.67</td>\n",
       "      <td>19</td>\n",
       "      <td>White</td>\n",
       "      <td>Other</td>\n",
       "      <td>Manufacturing</td>\n",
       "      <td>Unmarried</td>\n",
       "    </tr>\n",
       "    <tr>\n",
       "      <th>3</th>\n",
       "      <td>12</td>\n",
       "      <td>no</td>\n",
       "      <td>male</td>\n",
       "      <td>4</td>\n",
       "      <td>not_member</td>\n",
       "      <td>4.00</td>\n",
       "      <td>22</td>\n",
       "      <td>White</td>\n",
       "      <td>Other</td>\n",
       "      <td>Other</td>\n",
       "      <td>Unmarried</td>\n",
       "    </tr>\n",
       "    <tr>\n",
       "      <th>4</th>\n",
       "      <td>12</td>\n",
       "      <td>no</td>\n",
       "      <td>male</td>\n",
       "      <td>17</td>\n",
       "      <td>not_member</td>\n",
       "      <td>7.50</td>\n",
       "      <td>35</td>\n",
       "      <td>White</td>\n",
       "      <td>Other</td>\n",
       "      <td>Other</td>\n",
       "      <td>Married</td>\n",
       "    </tr>\n",
       "  </tbody>\n",
       "</table>\n",
       "</div>"
      ],
      "text/plain": [
       "   EDUCATION SOUTH     SEX  EXPERIENCE       UNION  WAGE  AGE      RACE  \\\n",
       "0          8    no  female          21  not_member  5.10   35  Hispanic   \n",
       "1          9    no  female          42  not_member  4.95   57     White   \n",
       "2         12    no    male           1  not_member  6.67   19     White   \n",
       "3         12    no    male           4  not_member  4.00   22     White   \n",
       "4         12    no    male          17  not_member  7.50   35     White   \n",
       "\n",
       "  OCCUPATION         SECTOR       MARR  \n",
       "0      Other  Manufacturing    Married  \n",
       "1      Other  Manufacturing    Married  \n",
       "2      Other  Manufacturing  Unmarried  \n",
       "3      Other          Other  Unmarried  \n",
       "4      Other          Other    Married  "
      ]
     },
     "execution_count": 9,
     "metadata": {},
     "output_type": "execute_result"
    }
   ],
   "source": [
    "df.head()"
   ]
  },
  {
   "cell_type": "code",
   "execution_count": 10,
   "metadata": {},
   "outputs": [
    {
     "data": {
      "text/plain": [
       "Index(['EDUCATION', 'SOUTH', 'SEX', 'EXPERIENCE', 'UNION', 'WAGE', 'AGE',\n",
       "       'RACE', 'OCCUPATION', 'SECTOR', 'MARR'],\n",
       "      dtype='object')"
      ]
     },
     "execution_count": 10,
     "metadata": {},
     "output_type": "execute_result"
    }
   ],
   "source": [
    "df.columns"
   ]
  },
  {
   "cell_type": "code",
   "execution_count": 12,
   "metadata": {},
   "outputs": [
    {
     "data": {
      "text/plain": [
       "<AxesSubplot: xlabel='AGE', ylabel='EXPERIENCE'>"
      ]
     },
     "execution_count": 12,
     "metadata": {},
     "output_type": "execute_result"
    },
    {
     "data": {
      "image/png": "[encoded data removed]",
      "text/plain": [
       "<Figure size 432x288 with 1 Axes>"
      ]
     },
     "metadata": {
      "needs_background": "light"
     },
     "output_type": "display_data"
    }
   ],
   "source": [
    "df.plot(kind='scatter', x='AGE', y='EXPERIENCE')"
   ]
  },
  {
   "cell_type": "code",
   "execution_count": 29,
   "metadata": {},
   "outputs": [
    {
     "data": {
      "text/plain": [
       "<AxesSubplot: xlabel='AGE', ylabel='EXPERIENCE'>"
      ]
     },
     "execution_count": 29,
     "metadata": {},
     "output_type": "execute_result"
    },
    {
     "data": {
      "image/png": "[encoded data removed]",
      "text/plain": [
       "<Figure size 720x504 with 2 Axes>"
      ]
     },
     "metadata": {
      "needs_background": "light"
     },
     "output_type": "display_data"
    }
   ],
   "source": [
    "df.plot(kind='scatter', x='AGE', y='EXPERIENCE', alpha=0.5, \n",
    "    c='EXPERIENCE', cmap='viridis', figsize=(10,7), marker='s', s='AGE',\n",
    "    edgecolor='black')"
   ]
  },
  {
   "cell_type": "code",
   "execution_count": 32,
   "metadata": {},
   "outputs": [
    {
     "data": {
      "text/plain": [
       "<AxesSubplot: xlabel='AGE', ylabel='WAGE'>"
      ]
     },
     "execution_count": 32,
     "metadata": {},
     "output_type": "execute_result"
    },
    {
     "data": {
      "image/png": "[encoded data removed]",
      "text/plain": [
       "<Figure size 720x504 with 2 Axes>"
      ]
     },
     "metadata": {
      "needs_background": "light"
     },
     "output_type": "display_data"
    }
   ],
   "source": [
    "df.plot(kind='scatter', x='AGE', y='WAGE', alpha=0.5, \n",
    "    c='EXPERIENCE', cmap='viridis', figsize=(10,7), marker='s', s='AGE',\n",
    "    edgecolor='black')"
   ]
  },
  {
   "cell_type": "code",
   "execution_count": 33,
   "metadata": {},
   "outputs": [
    {
     "data": {
      "text/html": [
       "<div>\n",
       "<style scoped>\n",
       "    .dataframe tbody tr th:only-of-type {\n",
       "        vertical-align: middle;\n",
       "    }\n",
       "\n",
       "    .dataframe tbody tr th {\n",
       "        vertical-align: top;\n",
       "    }\n",
       "\n",
       "    .dataframe thead th {\n",
       "        text-align: right;\n",
       "    }\n",
       "</style>\n",
       "<table border=\"1\" class=\"dataframe\">\n",
       "  <thead>\n",
       "    <tr style=\"text-align: right;\">\n",
       "      <th></th>\n",
       "      <th>EDUCATION</th>\n",
       "      <th>SOUTH</th>\n",
       "      <th>SEX</th>\n",
       "      <th>EXPERIENCE</th>\n",
       "      <th>UNION</th>\n",
       "      <th>WAGE</th>\n",
       "      <th>AGE</th>\n",
       "      <th>RACE</th>\n",
       "      <th>OCCUPATION</th>\n",
       "      <th>SECTOR</th>\n",
       "      <th>MARR</th>\n",
       "    </tr>\n",
       "  </thead>\n",
       "  <tbody>\n",
       "    <tr>\n",
       "      <th>0</th>\n",
       "      <td>8</td>\n",
       "      <td>no</td>\n",
       "      <td>female</td>\n",
       "      <td>21</td>\n",
       "      <td>not_member</td>\n",
       "      <td>5.10</td>\n",
       "      <td>35</td>\n",
       "      <td>Hispanic</td>\n",
       "      <td>Other</td>\n",
       "      <td>Manufacturing</td>\n",
       "      <td>Married</td>\n",
       "    </tr>\n",
       "    <tr>\n",
       "      <th>1</th>\n",
       "      <td>9</td>\n",
       "      <td>no</td>\n",
       "      <td>female</td>\n",
       "      <td>42</td>\n",
       "      <td>not_member</td>\n",
       "      <td>4.95</td>\n",
       "      <td>57</td>\n",
       "      <td>White</td>\n",
       "      <td>Other</td>\n",
       "      <td>Manufacturing</td>\n",
       "      <td>Married</td>\n",
       "    </tr>\n",
       "    <tr>\n",
       "      <th>2</th>\n",
       "      <td>12</td>\n",
       "      <td>no</td>\n",
       "      <td>male</td>\n",
       "      <td>1</td>\n",
       "      <td>not_member</td>\n",
       "      <td>6.67</td>\n",
       "      <td>19</td>\n",
       "      <td>White</td>\n",
       "      <td>Other</td>\n",
       "      <td>Manufacturing</td>\n",
       "      <td>Unmarried</td>\n",
       "    </tr>\n",
       "    <tr>\n",
       "      <th>3</th>\n",
       "      <td>12</td>\n",
       "      <td>no</td>\n",
       "      <td>male</td>\n",
       "      <td>4</td>\n",
       "      <td>not_member</td>\n",
       "      <td>4.00</td>\n",
       "      <td>22</td>\n",
       "      <td>White</td>\n",
       "      <td>Other</td>\n",
       "      <td>Other</td>\n",
       "      <td>Unmarried</td>\n",
       "    </tr>\n",
       "    <tr>\n",
       "      <th>4</th>\n",
       "      <td>12</td>\n",
       "      <td>no</td>\n",
       "      <td>male</td>\n",
       "      <td>17</td>\n",
       "      <td>not_member</td>\n",
       "      <td>7.50</td>\n",
       "      <td>35</td>\n",
       "      <td>White</td>\n",
       "      <td>Other</td>\n",
       "      <td>Other</td>\n",
       "      <td>Married</td>\n",
       "    </tr>\n",
       "    <tr>\n",
       "      <th>...</th>\n",
       "      <td>...</td>\n",
       "      <td>...</td>\n",
       "      <td>...</td>\n",
       "      <td>...</td>\n",
       "      <td>...</td>\n",
       "      <td>...</td>\n",
       "      <td>...</td>\n",
       "      <td>...</td>\n",
       "      <td>...</td>\n",
       "      <td>...</td>\n",
       "      <td>...</td>\n",
       "    </tr>\n",
       "    <tr>\n",
       "      <th>529</th>\n",
       "      <td>18</td>\n",
       "      <td>no</td>\n",
       "      <td>male</td>\n",
       "      <td>5</td>\n",
       "      <td>not_member</td>\n",
       "      <td>11.36</td>\n",
       "      <td>29</td>\n",
       "      <td>White</td>\n",
       "      <td>Professional</td>\n",
       "      <td>Other</td>\n",
       "      <td>Unmarried</td>\n",
       "    </tr>\n",
       "    <tr>\n",
       "      <th>530</th>\n",
       "      <td>12</td>\n",
       "      <td>no</td>\n",
       "      <td>female</td>\n",
       "      <td>33</td>\n",
       "      <td>not_member</td>\n",
       "      <td>6.10</td>\n",
       "      <td>51</td>\n",
       "      <td>Other</td>\n",
       "      <td>Professional</td>\n",
       "      <td>Other</td>\n",
       "      <td>Married</td>\n",
       "    </tr>\n",
       "    <tr>\n",
       "      <th>531</th>\n",
       "      <td>17</td>\n",
       "      <td>no</td>\n",
       "      <td>female</td>\n",
       "      <td>25</td>\n",
       "      <td>member</td>\n",
       "      <td>23.25</td>\n",
       "      <td>48</td>\n",
       "      <td>Other</td>\n",
       "      <td>Professional</td>\n",
       "      <td>Other</td>\n",
       "      <td>Married</td>\n",
       "    </tr>\n",
       "    <tr>\n",
       "      <th>532</th>\n",
       "      <td>12</td>\n",
       "      <td>yes</td>\n",
       "      <td>male</td>\n",
       "      <td>13</td>\n",
       "      <td>member</td>\n",
       "      <td>19.88</td>\n",
       "      <td>31</td>\n",
       "      <td>White</td>\n",
       "      <td>Professional</td>\n",
       "      <td>Other</td>\n",
       "      <td>Married</td>\n",
       "    </tr>\n",
       "    <tr>\n",
       "      <th>533</th>\n",
       "      <td>16</td>\n",
       "      <td>no</td>\n",
       "      <td>male</td>\n",
       "      <td>33</td>\n",
       "      <td>not_member</td>\n",
       "      <td>15.38</td>\n",
       "      <td>55</td>\n",
       "      <td>White</td>\n",
       "      <td>Professional</td>\n",
       "      <td>Manufacturing</td>\n",
       "      <td>Married</td>\n",
       "    </tr>\n",
       "  </tbody>\n",
       "</table>\n",
       "<p>534 rows × 11 columns</p>\n",
       "</div>"
      ],
      "text/plain": [
       "     EDUCATION SOUTH     SEX  EXPERIENCE       UNION   WAGE  AGE      RACE  \\\n",
       "0            8    no  female          21  not_member   5.10   35  Hispanic   \n",
       "1            9    no  female          42  not_member   4.95   57     White   \n",
       "2           12    no    male           1  not_member   6.67   19     White   \n",
       "3           12    no    male           4  not_member   4.00   22     White   \n",
       "4           12    no    male          17  not_member   7.50   35     White   \n",
       "..         ...   ...     ...         ...         ...    ...  ...       ...   \n",
       "529         18    no    male           5  not_member  11.36   29     White   \n",
       "530         12    no  female          33  not_member   6.10   51     Other   \n",
       "531         17    no  female          25      member  23.25   48     Other   \n",
       "532         12   yes    male          13      member  19.88   31     White   \n",
       "533         16    no    male          33  not_member  15.38   55     White   \n",
       "\n",
       "       OCCUPATION         SECTOR       MARR  \n",
       "0           Other  Manufacturing    Married  \n",
       "1           Other  Manufacturing    Married  \n",
       "2           Other  Manufacturing  Unmarried  \n",
       "3           Other          Other  Unmarried  \n",
       "4           Other          Other    Married  \n",
       "..            ...            ...        ...  \n",
       "529  Professional          Other  Unmarried  \n",
       "530  Professional          Other    Married  \n",
       "531  Professional          Other    Married  \n",
       "532  Professional          Other    Married  \n",
       "533  Professional  Manufacturing    Married  \n",
       "\n",
       "[534 rows x 11 columns]"
      ]
     },
     "execution_count": 33,
     "metadata": {},
     "output_type": "execute_result"
    }
   ],
   "source": [
    "df"
   ]
  },
  {
   "cell_type": "code",
   "execution_count": null,
   "metadata": {},
   "outputs": [],
   "source": []
  }
 ],
 "metadata": {
  "kernelspec": {
   "display_name": "Python 3.9.13 ('base')",
   "language": "python",
   "name": "python3"
  },
  "language_info": {
   "codemirror_mode": {
    "name": "ipython",
    "version": 3
   },
   "file_extension": ".py",
   "mimetype": "text/x-python",
   "name": "python",
   "nbconvert_exporter": "python",
   "pygments_lexer": "ipython3",
   "version": "3.9.13"
  },
  "orig_nbformat": 4,
  "vscode": {
   "interpreter": {
    "hash": "203ec5af3e26acf3e3c83a4183d4b4efe59642f60e2721ccf6236536a59ece46"
   }
  }
 },
 "nbformat": 4,
 "nbformat_minor": 2
}
