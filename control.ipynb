{
 "cells": [
  {
   "cell_type": "code",
   "execution_count": null,
   "metadata": {},
   "outputs": [],
   "source": [
    "username = input('Enter name')\n",
    "password = input('Enter password')\n",
    "email = input('Enter email')\n",
    "if username == 'John Cena':\n",
    "    if password == 'qwerty':\n",
    "        if email == 'john@gmail.com':\n",
    "            print(\"Welcome to WWE 💪💪\")\n",
    "        else:\n",
    "            print(\"Wrong email\")\n",
    "    else:\n",
    "        print(\"Wrong password\")\n",
    "else:\n",
    "    print(\"Wrong username\")"
   ]
  },
  {
   "cell_type": "code",
   "execution_count": null,
   "metadata": {},
   "outputs": [],
   "source": [
    "username = input('Enter name')\n",
    "password = input('Enter password')\n",
    "email = input('Enter email')\n",
    "if username != 'John Cena':\n",
    "    print(\"wrong username\")\n",
    "elif password != 'qwerty':\n",
    "    print(\"wrong password\")\n",
    "elif email != 'john@gmail.com':\n",
    "    print(\"wrong email\")\n",
    "else:\n",
    "    print(\"Welcome to WWE 💪💪\")"
   ]
  },
  {
   "cell_type": "markdown",
   "metadata": {},
   "source": [
    "#### wap to calculate the grade of student based on marks, with following rules:\n",
    "- if marks >= 90, grade is A\n",
    "- if marks >= 80, grade is B\n",
    "- if marks >= 70, grade is C\n",
    "- if marks >= 60, grade is D\n",
    "- if marks < 60, grade is F\n",
    "- if marks is not a number, grade is \"Invalid\""
   ]
  },
  {
   "cell_type": "code",
   "execution_count": null,
   "metadata": {},
   "outputs": [],
   "source": [
    "marks = input(\"Enter marks: \")\n",
    "if marks.isnumeric():\n",
    "    marks = int(marks)\n",
    "    if marks >= 90:\n",
    "        print('A')\n",
    "    elif marks >= 80:\n",
    "        print('B')\n",
    "    elif marks >= 70:\n",
    "        print('C')\n",
    "    elif marks >= 60:\n",
    "        print('D')\n",
    "    else:\n",
    "        print('F')\n",
    "else:\n",
    "    print(\"Invalid marks\")"
   ]
  }
 ],
 "metadata": {
  "kernelspec": {
   "display_name": "Python 3.9.13 ('base')",
   "language": "python",
   "name": "python3"
  },
  "language_info": {
   "name": "python",
   "version": "3.9.13"
  },
  "orig_nbformat": 4,
  "vscode": {
   "interpreter": {
    "hash": "203ec5af3e26acf3e3c83a4183d4b4efe59642f60e2721ccf6236536a59ece46"
   }
  }
 },
 "nbformat": 4,
 "nbformat_minor": 2
}
