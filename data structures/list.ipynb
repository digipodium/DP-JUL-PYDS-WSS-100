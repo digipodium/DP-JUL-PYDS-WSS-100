{
 "cells": [
  {
   "cell_type": "code",
   "execution_count": 1,
   "metadata": {},
   "outputs": [],
   "source": [
    "books = [\n",
    "    'Legion',\n",
    "    'Legion: Skin Deep',\n",
    "    'Steelheart',\n",
    "    'Calamity',\n",
    "    'The Final Empire',\n",
    "    'The well of Ascension',\n",
    "    'Way of the kings',\n",
    "    'Oathbringer',\n",
    "    'Words of Radiance',\n",
    "    'Warbreaker',\n",
    "]"
   ]
  },
  {
   "cell_type": "code",
   "execution_count": 2,
   "metadata": {},
   "outputs": [
    {
     "data": {
      "text/plain": [
       "['Legion', 'Legion: Skin Deep', 'Steelheart']"
      ]
     },
     "execution_count": 2,
     "metadata": {},
     "output_type": "execute_result"
    }
   ],
   "source": [
    "books[:3] # first 3 books"
   ]
  },
  {
   "cell_type": "code",
   "execution_count": 3,
   "metadata": {},
   "outputs": [
    {
     "data": {
      "text/plain": [
       "['Oathbringer', 'Words of Radiance', 'Warbreaker']"
      ]
     },
     "execution_count": 3,
     "metadata": {},
     "output_type": "execute_result"
    }
   ],
   "source": [
    "books[-3:] # last 3 books"
   ]
  },
  {
   "cell_type": "code",
   "execution_count": 4,
   "metadata": {},
   "outputs": [
    {
     "data": {
      "text/plain": [
       "['Calamity', 'The Final Empire', 'The well of Ascension', 'Way of the kings']"
      ]
     },
     "execution_count": 4,
     "metadata": {},
     "output_type": "execute_result"
    }
   ],
   "source": [
    "books[3:-3] # all except first 3 and last 3 books"
   ]
  },
  {
   "cell_type": "code",
   "execution_count": 5,
   "metadata": {},
   "outputs": [
    {
     "name": "stdout",
     "output_type": "stream",
     "text": [
      "['Legion', 'Legion: Skin Deep', 'Steelheart', 'Calamity', 'The Final Empire', 'The well of Ascension', 'Way of the kings', 'Oathbringer', 'Words of Radiance', 'Warbreaker', 'Firefight', 'Rythm of War']\n"
     ]
    }
   ],
   "source": [
    "books.append('Firefight')\n",
    "books.append('Rythm of War')\n",
    "print(books)"
   ]
  },
  {
   "cell_type": "code",
   "execution_count": 6,
   "metadata": {},
   "outputs": [],
   "source": [
    "bookname = input(\"enter a book name: \")\n",
    "books.append(bookname)"
   ]
  },
  {
   "cell_type": "code",
   "execution_count": 7,
   "metadata": {},
   "outputs": [
    {
     "name": "stdout",
     "output_type": "stream",
     "text": [
      "['Legion', 'Legion: Skin Deep', 'Steelheart', 'Calamity', 'The Final Empire', 'The well of Ascension', 'Way of the kings', 'Oathbringer', 'Words of Radiance', 'Warbreaker', 'Firefight', 'Rythm of War', 'Elantris']\n"
     ]
    }
   ],
   "source": [
    "print(books)"
   ]
  },
  {
   "cell_type": "code",
   "execution_count": 8,
   "metadata": {},
   "outputs": [
    {
     "name": "stdout",
     "output_type": "stream",
     "text": [
      "['Legion', 'Legion: Skin Deep', 'Steelheart', 'Calamity', 'The Final Empire', 'The well of Ascension', 'The Hero of Ages', 'Way of the kings', 'Oathbringer', 'Words of Radiance', 'Warbreaker', 'Firefight', 'Rythm of War', 'Elantris']\n"
     ]
    }
   ],
   "source": [
    "books.insert(6,'The Hero of Ages')\n",
    "print(books)"
   ]
  },
  {
   "cell_type": "code",
   "execution_count": 9,
   "metadata": {},
   "outputs": [
    {
     "name": "stdout",
     "output_type": "stream",
     "text": [
      "['Legion', 'Legion: Skin Deep', 'Steelheart', 'Calamity', 'The Final Empire', 'The well of Ascension', 'The Hero of Ages', 'Way of the kings', 'Oathbringer', 'Words of Radiance', 'Warbreaker', 'Firefight', 'Rythm of War', 'Elantris', 'Nightblood']\n"
     ]
    }
   ],
   "source": [
    "books.insert(100,'Nightblood') # unfeasible index, will be added to the end of the list\n",
    "print(books)"
   ]
  },
  {
   "cell_type": "code",
   "execution_count": 11,
   "metadata": {},
   "outputs": [
    {
     "name": "stdout",
     "output_type": "stream",
     "text": [
      "['Words of Radiance', 'Way of the kings', 'Warbreaker', 'The well of Ascension', 'The Hero of Ages', 'The Final Empire', 'Steelheart', 'Rythm of War', 'Oathbringer', 'Nightblood', 'Legion: Skin Deep', 'Legion', 'Firefight', 'Elantris', 'Calamity']\n"
     ]
    }
   ],
   "source": [
    "books.sort(reverse=True) # descending order\n",
    "print(books)"
   ]
  },
  {
   "cell_type": "code",
   "execution_count": 27,
   "metadata": {},
   "outputs": [
    {
     "name": "stdout",
     "output_type": "stream",
     "text": [
      "[1, 1, 1, 1, 1, 2, 2, 2, 2, 3, 3, 3, 3, 3, 3]\n"
     ]
    }
   ],
   "source": [
    "x = [1,2,2,3,3,2,3,3,3,3,1,1,1,1,2]\n",
    "x.sort()\n",
    "print(x)"
   ]
  },
  {
   "cell_type": "code",
   "execution_count": 28,
   "metadata": {},
   "outputs": [
    {
     "name": "stdout",
     "output_type": "stream",
     "text": [
      "[1, 1, 1, 1, 2, 2, 2, 2, 3, 3, 3, 3, 3, 3]\n",
      "[1, 1, 1, 1, 2, 2, 2, 2, 3, 3, 3, 3, 3, 3]\n"
     ]
    }
   ],
   "source": [
    "if 1 in x:\n",
    "    x.remove(1)\n",
    "print(x)\n",
    "if 4 in x:\n",
    "    x.remove(4)\n",
    "print(x)"
   ]
  },
  {
   "cell_type": "code",
   "execution_count": 26,
   "metadata": {},
   "outputs": [
    {
     "name": "stdout",
     "output_type": "stream",
     "text": [
      "not found\n"
     ]
    }
   ],
   "source": [
    "x.remove(3) if 3 in x else print('not found')"
   ]
  },
  {
   "cell_type": "code",
   "execution_count": 25,
   "metadata": {},
   "outputs": [
    {
     "name": "stdout",
     "output_type": "stream",
     "text": [
      "[1, 1, 1, 2, 2, 2, 2]\n"
     ]
    }
   ],
   "source": [
    "print(x)"
   ]
  },
  {
   "cell_type": "code",
   "execution_count": 38,
   "metadata": {},
   "outputs": [
    {
     "name": "stdout",
     "output_type": "stream",
     "text": [
      "['Calamity', 'Elantris', 'Firefight', 'Legion', 'Legion: Skin Deep', 'Nightblood', 'Oathbringer', 'Rythm of War', 'Steelheart', 'The Final Empire', 'The Hero of Ages', 'The well of Ascension', 'Warbreaker', 'Way of the kings', 'Words of Radiance']\n"
     ]
    }
   ],
   "source": [
    "books.reverse() # reverse the list\n",
    "print(books)"
   ]
  },
  {
   "cell_type": "code",
   "execution_count": 35,
   "metadata": {},
   "outputs": [
    {
     "data": {
      "text/plain": [
       "['Calamity',\n",
       " 'Elantris',\n",
       " 'Firefight',\n",
       " 'Legion',\n",
       " 'Legion: Skin Deep',\n",
       " 'Nightblood',\n",
       " 'Oathbringer',\n",
       " 'Rythm of War',\n",
       " 'Steelheart',\n",
       " 'The Final Empire',\n",
       " 'The Hero of Ages',\n",
       " 'The well of Ascension',\n",
       " 'Warbreaker',\n",
       " 'Way of the kings',\n",
       " 'Words of Radiance']"
      ]
     },
     "execution_count": 35,
     "metadata": {},
     "output_type": "execute_result"
    }
   ],
   "source": [
    "books[::-1] # reverse the list"
   ]
  },
  {
   "cell_type": "code",
   "execution_count": 39,
   "metadata": {},
   "outputs": [
    {
     "data": {
      "text/plain": [
       "15"
      ]
     },
     "execution_count": 39,
     "metadata": {},
     "output_type": "execute_result"
    }
   ],
   "source": [
    "len(books)"
   ]
  },
  {
   "cell_type": "code",
   "execution_count": 41,
   "metadata": {},
   "outputs": [
    {
     "name": "stdout",
     "output_type": "stream",
     "text": [
      "6\n"
     ]
    },
    {
     "data": {
      "text/plain": [
       "['Oathbringer',\n",
       " 'Rythm of War',\n",
       " 'Steelheart',\n",
       " 'The Final Empire',\n",
       " 'The Hero of Ages',\n",
       " 'The well of Ascension',\n",
       " 'Warbreaker',\n",
       " 'Way of the kings',\n",
       " 'Words of Radiance']"
      ]
     },
     "execution_count": 41,
     "metadata": {},
     "output_type": "execute_result"
    }
   ],
   "source": [
    "oathidx =books.index('Oathbringer')\n",
    "print(oathidx)\n",
    "books[oathidx:]"
   ]
  },
  {
   "cell_type": "code",
   "execution_count": 40,
   "metadata": {},
   "outputs": [
    {
     "data": {
      "text/plain": [
       "['Oathbringer',\n",
       " 'Rythm of War',\n",
       " 'Steelheart',\n",
       " 'The Final Empire',\n",
       " 'The Hero of Ages',\n",
       " 'The well of Ascension',\n",
       " 'Warbreaker',\n",
       " 'Way of the kings',\n",
       " 'Words of Radiance']"
      ]
     },
     "execution_count": 40,
     "metadata": {},
     "output_type": "execute_result"
    }
   ],
   "source": [
    "books[books.index('Oathbringer') : ]"
   ]
  },
  {
   "cell_type": "markdown",
   "metadata": {},
   "source": [
    "wap to create a list of 5 values given by the user"
   ]
  },
  {
   "cell_type": "code",
   "execution_count": 42,
   "metadata": {},
   "outputs": [
    {
     "name": "stdout",
     "output_type": "stream",
     "text": [
      "['Apple', 'Banana', 'Cherry', 'Orange', 'Watermelon']\n"
     ]
    }
   ],
   "source": [
    "ex  = []\n",
    "for i in range(5):\n",
    "    val = input(f'enter value {i+1}: ')\n",
    "    ex.append(val)\n",
    "print(ex)"
   ]
  },
  {
   "cell_type": "markdown",
   "metadata": {},
   "source": [
    "wap to display sum of a list"
   ]
  },
  {
   "cell_type": "code",
   "execution_count": 45,
   "metadata": {},
   "outputs": [
    {
     "name": "stdout",
     "output_type": "stream",
     "text": [
      "411\n"
     ]
    }
   ],
   "source": [
    "data = [23,54,67,78,99,90]\n",
    "total = 0\n",
    "for i in data:\n",
    "    total += i\n",
    "print(total)"
   ]
  },
  {
   "cell_type": "markdown",
   "metadata": {},
   "source": [
    "mean, median, min, max, std"
   ]
  },
  {
   "cell_type": "code",
   "execution_count": 5,
   "metadata": {},
   "outputs": [
    {
     "name": "stdout",
     "output_type": "stream",
     "text": [
      "3.6666666666666665\n",
      "3\n",
      "1\n",
      "7\n"
     ]
    }
   ],
   "source": [
    "\n",
    "x = [2,4,6,7,3,2,1,2,5,4,3,2,1,6,7]\n",
    "# mean\n",
    "mean = sum(x)/len(x)\n",
    "print(mean)\n",
    "\n",
    "# median\n",
    "x.sort()\n",
    "if len(x) % 2 == 0:\n",
    "    median = (x[len(x)//2] + x[len(x)//2 - 1])/2\n",
    "else:\n",
    "    median = x[len(x)//2]\n",
    "print(median)\n",
    "\n",
    "# min\n",
    "print(min(x))\n",
    "\n",
    "# max\n",
    "print(max(x))\n",
    "\n",
    "# std\n",
    "# ?"
   ]
  },
  {
   "cell_type": "code",
   "execution_count": 6,
   "metadata": {},
   "outputs": [
    {
     "name": "stdout",
     "output_type": "stream",
     "text": [
      "[7, 9, 11, 13, 15]\n"
     ]
    }
   ],
   "source": [
    "# add 2 list together element wise and produce a new list\n",
    "a = [1,2,3,4,5]\n",
    "b = [6,7,8,9,10]\n",
    "c = []\n",
    "for i, j in zip(a,b):\n",
    "    c.append(i+j)\n",
    "print(c)"
   ]
  },
  {
   "cell_type": "code",
   "execution_count": 7,
   "metadata": {},
   "outputs": [
    {
     "name": "stdout",
     "output_type": "stream",
     "text": [
      "[2, 3, 4, 5, 6, 7, 8, 9, 10]\n",
      "[4, 9, 16, 25, 36, 49, 64, 81, 100]\n"
     ]
    }
   ],
   "source": [
    "# create a list where every element is a sqr\n",
    "# of elements from an existing list\n",
    "x = [2,3,4,5,6,7,8,9,10]\n",
    "x2 = []\n",
    "for i in x:\n",
    "    x2.append(i**2)\n",
    "print(x)\n",
    "print(x2)"
   ]
  },
  {
   "cell_type": "code",
   "execution_count": 8,
   "metadata": {},
   "outputs": [
    {
     "name": "stdout",
     "output_type": "stream",
     "text": [
      "[2, 3, 4, 5, 6, 7, 8, 9, 10]\n",
      "[9, 25, 49, 81]\n"
     ]
    }
   ],
   "source": [
    "# create a list where every odd element is a sqr\n",
    "# of elements from an existing list\n",
    "x = [2,3,4,5,6,7,8,9,10]\n",
    "# x2 = []\n",
    "# for i in x:\n",
    "#     if i%2 != 0:\n",
    "#         x2.append(i**2)\n",
    "x2 = [i**2 for i in x if i%2 != 0]\n",
    "print(x)\n",
    "print(x2)"
   ]
  },
  {
   "cell_type": "code",
   "execution_count": 1,
   "metadata": {},
   "outputs": [
    {
     "name": "stdout",
     "output_type": "stream",
     "text": [
      "['US', 'PM', 'SE', 'DA', 'SSE', 'SDA', 'DS', 'DE']\n"
     ]
    }
   ],
   "source": [
    "# create a abbrviation list from an \n",
    "# existing list of words\n",
    "\n",
    "words = ['United State','Project Manager','Software Engineer','Data Analyst',\n",
    "'Senior Software Engineer','Senior Data Analyst','Data Scientist','Data Engineer']\n",
    "\n",
    "# abbrs = ['US','PM','SE','DA','SSE','SDA','DS','DE']\n",
    "abbrs = []\n",
    "for names in words:\n",
    "    ans = ''\n",
    "    for word in names.split():\n",
    "        ans += word[0]\n",
    "    abbrs.append(ans)\n",
    "print(abbrs)"
   ]
  },
  {
   "cell_type": "code",
   "execution_count": 4,
   "metadata": {},
   "outputs": [
    {
     "name": "stdout",
     "output_type": "stream",
     "text": [
      "1 2 3 5 6 aodojajsjkd 123123 1 asldk\n",
      "[1, 2, 3, 5, 6, 123123, 1]\n",
      "[1, 8, 27, 125, 216, 1866455185461867, 1]\n"
     ]
    }
   ],
   "source": [
    "# take a list from user in one line of input and then \n",
    "# remove all the non numeric values from the list\n",
    "# then display the cubes of numbers from that list\n",
    "# 10 min break\n",
    "\n",
    "entries = input('enter data seperated with space: ')\n",
    "print(entries)\n",
    "# numeric_entries = []\n",
    "# for value in entries.split():\n",
    "#     if value.isnumeric():\n",
    "#         numeric_entries.append(int(value))\n",
    "numeric_entries =[ int(value) for value in entries.split() if value.isnumeric()]\n",
    "print(numeric_entries)\n",
    "# cubes of numbers\n",
    "cubes = [i**3 for i in numeric_entries]\n",
    "print(cubes)"
   ]
  },
  {
   "cell_type": "markdown",
   "metadata": {},
   "source": [
    "# list comprehension\n",
    "is a way to create a list from existing list \n",
    "using one line of expression\n",
    "- syntax\n",
    "```\n",
    "newlist = [expression for item in oldlist]\n",
    "```\n",
    "- with condition syntax\n",
    "```\n",
    "newlist = [expression for item in oldlist if condition]\n",
    "```"
   ]
  },
  {
   "cell_type": "code",
   "execution_count": null,
   "metadata": {},
   "outputs": [],
   "source": []
  }
 ],
 "metadata": {
  "kernelspec": {
   "display_name": "Python 3.9.13 ('base')",
   "language": "python",
   "name": "python3"
  },
  "language_info": {
   "codemirror_mode": {
    "name": "ipython",
    "version": 3
   },
   "file_extension": ".py",
   "mimetype": "text/x-python",
   "name": "python",
   "nbconvert_exporter": "python",
   "pygments_lexer": "ipython3",
   "version": "3.9.13"
  },
  "orig_nbformat": 4,
  "vscode": {
   "interpreter": {
    "hash": "203ec5af3e26acf3e3c83a4183d4b4efe59642f60e2721ccf6236536a59ece46"
   }
  }
 },
 "nbformat": 4,
 "nbformat_minor": 2
}
