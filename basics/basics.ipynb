{
 "cells": [
  {
   "cell_type": "code",
   "execution_count": 22,
   "metadata": {},
   "outputs": [
    {
     "name": "stdout",
     "output_type": "stream",
     "text": [
      "\n"
     ]
    }
   ],
   "source": [
    "print()"
   ]
  },
  {
   "cell_type": "code",
   "execution_count": 23,
   "metadata": {},
   "outputs": [
    {
     "name": "stdout",
     "output_type": "stream",
     "text": [
      "Bruce Campbell\n"
     ]
    }
   ],
   "source": [
    "print('Bruce Campbell')"
   ]
  },
  {
   "cell_type": "markdown",
   "metadata": {},
   "source": [
    "*raw output are only for developer's understanding*"
   ]
  },
  {
   "cell_type": "code",
   "execution_count": 24,
   "metadata": {},
   "outputs": [
    {
     "data": {
      "text/plain": [
       "'Welcome to Kingdom'"
      ]
     },
     "execution_count": 24,
     "metadata": {},
     "output_type": "execute_result"
    }
   ],
   "source": [
    "\"Welcome to Kingdom\""
   ]
  },
  {
   "cell_type": "code",
   "execution_count": 25,
   "metadata": {},
   "outputs": [
    {
     "data": {
      "text/plain": [
       "3497"
      ]
     },
     "execution_count": 25,
     "metadata": {},
     "output_type": "execute_result"
    }
   ],
   "source": [
    "230 + 3290 - 23"
   ]
  },
  {
   "cell_type": "code",
   "execution_count": 26,
   "metadata": {},
   "outputs": [
    {
     "name": "stdout",
     "output_type": "stream",
     "text": [
      "this is an apple it is a fruit i dont like apples\n"
     ]
    }
   ],
   "source": [
    "print('this is an apple', 'it is a fruit', 'i dont like apples')"
   ]
  },
  {
   "cell_type": "code",
   "execution_count": 27,
   "metadata": {},
   "outputs": [
    {
     "name": "stdout",
     "output_type": "stream",
     "text": [
      "1 2 3 4 5 2.3 32.2\n"
     ]
    }
   ],
   "source": [
    "print(1,2,3,4,5,2.3,32.2)"
   ]
  },
  {
   "cell_type": "code",
   "execution_count": 28,
   "metadata": {},
   "outputs": [
    {
     "name": "stdout",
     "output_type": "stream",
     "text": [
      "This is Python Data Science\n",
      "we are going to do code\n",
      "and learn the secrets of Python\n",
      "Thats it!\n"
     ]
    }
   ],
   "source": [
    "print('This is Python Data Science')\n",
    "print('we are going to do code')\n",
    "print('and learn the secrets of Python')\n",
    "print('Thats it!')"
   ]
  },
  {
   "cell_type": "code",
   "execution_count": 29,
   "metadata": {},
   "outputs": [
    {
     "name": "stdout",
     "output_type": "stream",
     "text": [
      "This is Python Data Science we are going to do code and learn the secrets of Python thats it!\n"
     ]
    }
   ],
   "source": [
    "print('This is Python Data Science we are going to do code and learn the secrets of Python thats it!')"
   ]
  },
  {
   "cell_type": "code",
   "execution_count": 30,
   "metadata": {},
   "outputs": [
    {
     "name": "stdout",
     "output_type": "stream",
     "text": [
      "This is Python Data Science \n",
      "we are going to do code \n",
      "and learn the secrets of Python \n",
      "thats it!\n"
     ]
    }
   ],
   "source": [
    "print('This is Python Data Science \\nwe are going to do code \\nand learn the secrets of Python \\nthats it!')"
   ]
  },
  {
   "cell_type": "code",
   "execution_count": 31,
   "metadata": {},
   "outputs": [
    {
     "name": "stdout",
     "output_type": "stream",
     "text": [
      "\n",
      "This is Python Data Science\n",
      "we are going to do code\n",
      "and learn the secrets of Python\n",
      "thats it!\n",
      "\n"
     ]
    }
   ],
   "source": [
    "print('''\n",
    "This is Python Data Science\n",
    "we are going to do code\n",
    "and learn the secrets of Python\n",
    "thats it!\n",
    "''')"
   ]
  },
  {
   "cell_type": "markdown",
   "metadata": {},
   "source": [
    "there are few settings in print function that we can provide whenever we want to print something."
   ]
  },
  {
   "cell_type": "code",
   "execution_count": 32,
   "metadata": {},
   "outputs": [
    {
     "name": "stdout",
     "output_type": "stream",
     "text": [
      "1😡2😡3😡4😡5😡2.3😡32.2\n"
     ]
    }
   ],
   "source": [
    "print(1,2,3,4,5,2.3,32.2, sep='😡')"
   ]
  },
  {
   "cell_type": "markdown",
   "metadata": {},
   "source": [
    "sep and end are 2 parameters that we can provide in print function."
   ]
  },
  {
   "cell_type": "code",
   "execution_count": 33,
   "metadata": {},
   "outputs": [
    {
     "name": "stdout",
     "output_type": "stream",
     "text": [
      "This is multiline message "
     ]
    }
   ],
   "source": [
    "print('This', end=' ')\n",
    "print('is', end=' ')\n",
    "print('multiline', end=' ')\n",
    "print('message', end=' ')"
   ]
  },
  {
   "cell_type": "code",
   "execution_count": 40,
   "metadata": {},
   "outputs": [],
   "source": [
    "age = 121\n",
    "name = 'bob'\n",
    "is_married=True\n",
    "color2 = 'maroon'"
   ]
  },
  {
   "cell_type": "code",
   "execution_count": 37,
   "metadata": {},
   "outputs": [],
   "source": [
    "name='nobita'"
   ]
  },
  {
   "cell_type": "code",
   "execution_count": 45,
   "metadata": {},
   "outputs": [],
   "source": [
    "age = 5"
   ]
  },
  {
   "cell_type": "code",
   "execution_count": null,
   "metadata": {},
   "outputs": [],
   "source": [
    "color2 = 12"
   ]
  },
  {
   "cell_type": "markdown",
   "metadata": {},
   "source": [
    "*datatype can be changed by changing the value of a variable*"
   ]
  },
  {
   "cell_type": "code",
   "execution_count": 47,
   "metadata": {},
   "outputs": [],
   "source": [
    "del age"
   ]
  },
  {
   "cell_type": "markdown",
   "metadata": {},
   "source": [
    "## input in python"
   ]
  },
  {
   "cell_type": "code",
   "execution_count": 49,
   "metadata": {},
   "outputs": [
    {
     "name": "stdout",
     "output_type": "stream",
     "text": [
      "So according to you\n",
      "you are Hari Prasad\n",
      "and you live in Lucknow\n"
     ]
    }
   ],
   "source": [
    "name = input('What is your name? ')\n",
    "city = input('What city do you live in? ')\n",
    "print(\"So according to you\")\n",
    "print('you are', name)\n",
    "print('and you live in', city)"
   ]
  },
  {
   "cell_type": "markdown",
   "metadata": {},
   "source": [
    "## operators"
   ]
  },
  {
   "cell_type": "code",
   "execution_count": 17,
   "metadata": {},
   "outputs": [
    {
     "name": "stdout",
     "output_type": "stream",
     "text": [
      "133\n",
      "67\n",
      "3300\n",
      "3.0303030303030303\n",
      "3\n",
      "3\n",
      "1000000000000000000000000000000000000000000000000000000000000000000\n"
     ]
    }
   ],
   "source": [
    "# arithmetic operators\n",
    "a = 100\n",
    "b = 33\n",
    "\n",
    "print( a + b ) # add\n",
    "print( a - b ) # sub\n",
    "print( a * b ) # mul\n",
    "print( a / b ) # float div\n",
    "print( a // b ) # int div\n",
    "print( 23 % 5 ) # remaider\n",
    "print( a ** b) # exponentiation"
   ]
  },
  {
   "cell_type": "code",
   "execution_count": 18,
   "metadata": {},
   "outputs": [],
   "source": [
    "# assignment operators\n",
    "a = 10\n",
    "b = 5\n",
    "c = 3\n",
    "# alternate way to assign a value to a variable\n",
    "x, y, z = 10, 20, 30"
   ]
  },
  {
   "cell_type": "code",
   "execution_count": 19,
   "metadata": {},
   "outputs": [],
   "source": [
    "a += 2 # update a with a + 2"
   ]
  },
  {
   "cell_type": "code",
   "execution_count": 21,
   "metadata": {},
   "outputs": [
    {
     "name": "stdout",
     "output_type": "stream",
     "text": [
      "True\n",
      "True\n",
      "False\n",
      "False\n",
      "False\n",
      "True\n"
     ]
    }
   ],
   "source": [
    "# comparison operators\n",
    "print(a > b)  # greater than\n",
    "print(a >= b) # greater than or equal to\n",
    "print(a < b)  # less than\n",
    "print(a <= b) # less than or equal to\n",
    "print(a == b) # equal to\n",
    "print(a != b) # not equal to"
   ]
  },
  {
   "cell_type": "code",
   "execution_count": 25,
   "metadata": {},
   "outputs": [
    {
     "name": "stdout",
     "output_type": "stream",
     "text": [
      "True\n",
      "False\n",
      "True\n",
      "True\n",
      "False\n",
      "True\n",
      "False\n",
      "False\n"
     ]
    }
   ],
   "source": [
    "# logical oprerators (and, or, not)\n",
    "print(a > b and a > 5)\n",
    "print(a < b and a > 5)\n",
    "print(a > b or a > 5)\n",
    "print(a < b or a > 5)\n",
    "print(a < b or a < 5)\n",
    "print(not a < b)\n",
    "print(not a > b)\n",
    "print(not a and not b and not c)"
   ]
  },
  {
   "cell_type": "code",
   "execution_count": 27,
   "metadata": {},
   "outputs": [
    {
     "name": "stdout",
     "output_type": "stream",
     "text": [
      "True\n",
      "False\n",
      "False\n",
      "True\n",
      "True\n",
      "False\n"
     ]
    }
   ],
   "source": [
    "# membership operators (in)\n",
    "colors = ['red','blue','green','yellow','orange']\n",
    "print('red' in colors)\n",
    "print('Red' in colors)\n",
    "print('RED' in colors)\n",
    "print('blue' in colors)\n",
    "print('yellow' in colors)\n",
    "print('purple' in colors)"
   ]
  },
  {
   "cell_type": "code",
   "execution_count": 29,
   "metadata": {},
   "outputs": [
    {
     "name": "stdout",
     "output_type": "stream",
     "text": [
      "True\n",
      "False\n"
     ]
    }
   ],
   "source": [
    "msg = \"Its the journey that matters\"\n",
    "print('journey' in msg)\n",
    "print('destination' in msg)"
   ]
  },
  {
   "cell_type": "code",
   "execution_count": 30,
   "metadata": {},
   "outputs": [],
   "source": [
    "# is operator check wheter two objects belong to same memory location or not"
   ]
  },
  {
   "cell_type": "markdown",
   "metadata": {},
   "source": [
    "questions:\n",
    "- wap to calculate the area of a circle\n",
    "- wap to calculate the area of a rectangle\n",
    "- wap to calculate the area of a triangle\n",
    "- wap to calculate the hypotenus using perpendicular and base\n",
    "- wap to calculate a factorial of 5"
   ]
  },
  {
   "cell_type": "code",
   "execution_count": 31,
   "metadata": {},
   "outputs": [
    {
     "name": "stdout",
     "output_type": "stream",
     "text": [
      "314.0 for a circle with radius 10\n"
     ]
    }
   ],
   "source": [
    "# area of circle = pi * r ** 2\n",
    "radius = 10\n",
    "area = 3.14 * radius ** 2\n",
    "print(area, 'for a circle with radius', radius)"
   ]
  },
  {
   "cell_type": "code",
   "execution_count": 36,
   "metadata": {},
   "outputs": [
    {
     "name": "stdout",
     "output_type": "stream",
     "text": [
      "4775.9400000000005 for a circle with radius 39\n"
     ]
    }
   ],
   "source": [
    "radius = int(input('Enter the radius of the circle: '))\n",
    "area = 3.14 * radius ** 2\n",
    "print(area, 'for a circle with radius', radius)"
   ]
  },
  {
   "cell_type": "code",
   "execution_count": 37,
   "metadata": {},
   "outputs": [
    {
     "name": "stdout",
     "output_type": "stream",
     "text": [
      "Area of the rectangle is 300.0\n"
     ]
    }
   ],
   "source": [
    "l = float(input('Enter Lenght =>'))\n",
    "b = float(input('Enter Breadth =>'))\n",
    "area = l * b\n",
    "print('Area of the rectangle is', area)"
   ]
  },
  {
   "cell_type": "code",
   "execution_count": 38,
   "metadata": {},
   "outputs": [
    {
     "name": "stdout",
     "output_type": "stream",
     "text": [
      "Area of the triangle is 25.0\n"
     ]
    }
   ],
   "source": [
    "h = float(input('Enter Height => '))\n",
    "b = float(input('Enter Base => '))\n",
    "area_of_triangle = 0.5 * b * h\n",
    "print('Area of the triangle is', area_of_triangle)"
   ]
  },
  {
   "cell_type": "code",
   "execution_count": 41,
   "metadata": {},
   "outputs": [],
   "source": [
    "import math"
   ]
  },
  {
   "cell_type": "code",
   "execution_count": 44,
   "metadata": {},
   "outputs": [
    {
     "name": "stdout",
     "output_type": "stream",
     "text": [
      "Hypotenuse is 19.209372712298546\n"
     ]
    }
   ],
   "source": [
    "p = float(input('Enter Perpendicular'))\n",
    "b = float(input('Enter Base'))\n",
    "h = math.hypot(p, b)\n",
    "print('Hypotenuse is', h)"
   ]
  },
  {
   "cell_type": "code",
   "execution_count": 46,
   "metadata": {},
   "outputs": [
    {
     "name": "stdout",
     "output_type": "stream",
     "text": [
      "Factorial of 100 is 93326215443944152681699238856266700490715968264381621468592963895217599993229915608941463976156518286253697920827223758251185210916864000000000000000000000000\n"
     ]
    }
   ],
   "source": [
    "num = int(input('enter a number: '))\n",
    "fact = math.factorial(num)\n",
    "print('Factorial of', num, 'is', fact)"
   ]
  },
  {
   "cell_type": "code",
   "execution_count": 48,
   "metadata": {},
   "outputs": [
    {
     "name": "stdout",
     "output_type": "stream",
     "text": [
      "['__doc__', '__loader__', '__name__', '__package__', '__spec__', 'acos', 'acosh', 'asin', 'asinh', 'atan', 'atan2', 'atanh', 'ceil', 'comb', 'copysign', 'cos', 'cosh', 'degrees', 'dist', 'e', 'erf', 'erfc', 'exp', 'expm1', 'fabs', 'factorial', 'floor', 'fmod', 'frexp', 'fsum', 'gamma', 'gcd', 'hypot', 'inf', 'isclose', 'isfinite', 'isinf', 'isnan', 'isqrt', 'lcm', 'ldexp', 'lgamma', 'log', 'log10', 'log1p', 'log2', 'modf', 'nan', 'nextafter', 'perm', 'pi', 'pow', 'prod', 'radians', 'remainder', 'sin', 'sinh', 'sqrt', 'tan', 'tanh', 'tau', 'trunc', 'ulp']\n"
     ]
    }
   ],
   "source": [
    "print(dir(math))"
   ]
  },
  {
   "cell_type": "code",
   "execution_count": null,
   "metadata": {},
   "outputs": [],
   "source": [
    "# compound interest\n",
    "p = float(input('Enter Principal => '))\n",
    "r = float(input('Enter Rate => '))\n",
    "t = float(input('Enter Time => '))\n",
    "n = float(input('Enter Number of times interest is compounded => '))\n",
    "ci = p * (1 + r / n) ** (n * t)\n",
    "print('Compound Interest is', ci)"
   ]
  }
 ],
 "metadata": {
  "kernelspec": {
   "display_name": "Python 3.9.13 ('base')",
   "language": "python",
   "name": "python3"
  },
  "language_info": {
   "codemirror_mode": {
    "name": "ipython",
    "version": 3
   },
   "file_extension": ".py",
   "mimetype": "text/x-python",
   "name": "python",
   "nbconvert_exporter": "python",
   "pygments_lexer": "ipython3",
   "version": "3.9.13"
  },
  "orig_nbformat": 4,
  "vscode": {
   "interpreter": {
    "hash": "203ec5af3e26acf3e3c83a4183d4b4efe59642f60e2721ccf6236536a59ece46"
   }
  }
 },
 "nbformat": 4,
 "nbformat_minor": 2
}
