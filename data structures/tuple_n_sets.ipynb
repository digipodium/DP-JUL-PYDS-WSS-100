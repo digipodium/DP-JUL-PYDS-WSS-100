{
 "cells": [
  {
   "cell_type": "markdown",
   "metadata": {},
   "source": [
    "# tuple"
   ]
  },
  {
   "cell_type": "code",
   "execution_count": 1,
   "metadata": {},
   "outputs": [
    {
     "name": "stdout",
     "output_type": "stream",
     "text": [
      "(1, 2, 3, 4)\n",
      "<class 'tuple'>\n"
     ]
    }
   ],
   "source": [
    "a = (1,2,3,4)\n",
    "print(a)\n",
    "print(type(a))"
   ]
  },
  {
   "cell_type": "code",
   "execution_count": 2,
   "metadata": {},
   "outputs": [
    {
     "name": "stdout",
     "output_type": "stream",
     "text": [
      "(1, 3, 5, 7)\n",
      "<class 'tuple'>\n"
     ]
    }
   ],
   "source": [
    "b = 1, 3, 5, 7\n",
    "print(b)\n",
    "print(type(b))"
   ]
  },
  {
   "cell_type": "code",
   "execution_count": 3,
   "metadata": {},
   "outputs": [
    {
     "name": "stdout",
     "output_type": "stream",
     "text": [
      "1\n",
      "2\n",
      "3\n",
      "4\n"
     ]
    }
   ],
   "source": [
    "for val in a:\n",
    "    print(val)"
   ]
  },
  {
   "cell_type": "code",
   "execution_count": 5,
   "metadata": {},
   "outputs": [
    {
     "name": "stdout",
     "output_type": "stream",
     "text": [
      "[1, 2, 3, 4]\n"
     ]
    }
   ],
   "source": [
    "al = list(a)\n",
    "print(al)"
   ]
  },
  {
   "cell_type": "code",
   "execution_count": 6,
   "metadata": {},
   "outputs": [
    {
     "name": "stdout",
     "output_type": "stream",
     "text": [
      "[2, 3, 12, 312, 31, 32, 123]\n",
      "(2, 3, 12, 312, 31, 32, 123)\n"
     ]
    }
   ],
   "source": [
    "val = [2,3,12,312,31,32,123,]\n",
    "print(val)\n",
    "valt = tuple(val)\n",
    "print(valt)"
   ]
  },
  {
   "cell_type": "markdown",
   "metadata": {},
   "source": [
    "# set"
   ]
  },
  {
   "cell_type": "code",
   "execution_count": 7,
   "metadata": {},
   "outputs": [
    {
     "name": "stdout",
     "output_type": "stream",
     "text": [
      "{1, 2, 3, 4, 5, 6, 7, 8, 9, 10}\n",
      "<class 'set'>\n"
     ]
    }
   ],
   "source": [
    "s1 = {1,2,3,4,5,6,7,8,9,10,1,1}\n",
    "print(s1)\n",
    "print(type(s1))"
   ]
  },
  {
   "cell_type": "code",
   "execution_count": 13,
   "metadata": {},
   "outputs": [
    {
     "name": "stdout",
     "output_type": "stream",
     "text": [
      "{1, 2, 3, 4, 5, 6, 7, 8, 9, 10}\n",
      "[1, 2, 3, 4, 5, 6, 7, 8, 9, 10]\n",
      "(1, 2, 3, 4, 5, 6, 7, 8, 9, 10)\n",
      "{1, 2, 3}\n",
      "{1, 2, 3, 4, 5}\n"
     ]
    }
   ],
   "source": [
    "print(s1)\n",
    "sl = list(s1)        # set to list\n",
    "print(sl)\n",
    "st = tuple(s1)       # set to tuple\n",
    "print(st)\n",
    "a = set([1,2,3,3,3,1,1]) # list to set\n",
    "print(a)\n",
    "b = set((2,1,2,2,3,4,4,5)) # tuple to set\n",
    "print(b)"
   ]
  },
  {
   "cell_type": "markdown",
   "metadata": {},
   "source": [
    "# dictionary"
   ]
  },
  {
   "cell_type": "code",
   "execution_count": 14,
   "metadata": {},
   "outputs": [],
   "source": [
    "report = {\n",
    "    'student 1': {\n",
    "        'name': 'John',\n",
    "        'marks': {\n",
    "            'math': 80,\n",
    "            'science': 90,\n",
    "            'history': 70,\n",
    "            'english': 60,\n",
    "            'evs':90\n",
    "\n",
    "        }\n",
    "    },\n",
    "    'student 2': {\n",
    "        'name': 'Mary',\n",
    "        'marks': {\n",
    "            'math': 70,\n",
    "            'science': 80,\n",
    "            'history': 60,\n",
    "            'english': 50,\n",
    "            'evs':80\n",
    "        }\n",
    "    },\n",
    "}"
   ]
  },
  {
   "cell_type": "code",
   "execution_count": 15,
   "metadata": {},
   "outputs": [
    {
     "data": {
      "text/plain": [
       "{'student 1': {'name': 'John',\n",
       "  'marks': {'math': 80,\n",
       "   'science': 90,\n",
       "   'history': 70,\n",
       "   'english': 60,\n",
       "   'evs': 90}},\n",
       " 'student 2': {'name': 'Mary',\n",
       "  'marks': {'math': 70,\n",
       "   'science': 80,\n",
       "   'history': 60,\n",
       "   'english': 50,\n",
       "   'evs': 80}}}"
      ]
     },
     "execution_count": 15,
     "metadata": {},
     "output_type": "execute_result"
    }
   ],
   "source": [
    "report"
   ]
  },
  {
   "cell_type": "code",
   "execution_count": 16,
   "metadata": {},
   "outputs": [
    {
     "name": "stdout",
     "output_type": "stream",
     "text": [
      "{'name': 'John', 'marks': {'math': 80, 'science': 90, 'history': 70, 'english': 60, 'evs': 90}}\n"
     ]
    }
   ],
   "source": [
    "print(report['student 1'])"
   ]
  },
  {
   "cell_type": "code",
   "execution_count": 19,
   "metadata": {},
   "outputs": [
    {
     "name": "stdout",
     "output_type": "stream",
     "text": [
      "John\n",
      "{'math': 80, 'science': 90, 'history': 70, 'english': 60, 'evs': 90}\n",
      "70\n"
     ]
    }
   ],
   "source": [
    "print(report['student 1']['name'])\n",
    "print(report['student 1']['marks'])\n",
    "print(report['student 1']['marks']['history'])"
   ]
  },
  {
   "cell_type": "code",
   "execution_count": 24,
   "metadata": {},
   "outputs": [
    {
     "name": "stdout",
     "output_type": "stream",
     "text": [
      "student 1 {'name': 'John', 'marks': {'math': 80, 'science': 90, 'history': 70, 'english': 60, 'evs': 90}}\n",
      "student 2 {'name': 'Mary', 'marks': {'math': 70, 'science': 80, 'history': 60, 'english': 50, 'evs': 80}}\n"
     ]
    }
   ],
   "source": [
    "# loop for dictionary\n",
    "for k,v in report.items():\n",
    "    print(k,v)"
   ]
  },
  {
   "cell_type": "code",
   "execution_count": 31,
   "metadata": {},
   "outputs": [
    {
     "name": "stdout",
     "output_type": "stream",
     "text": [
      "student: student 1\n",
      "John\n",
      "math 80\n",
      "science 90\n",
      "history 70\n",
      "english 60\n",
      "evs 90\n",
      "student: student 2\n",
      "Mary\n",
      "math 70\n",
      "science 80\n",
      "history 60\n",
      "english 50\n",
      "evs 80\n"
     ]
    }
   ],
   "source": [
    "# nested loop for dictionary\n",
    "for k, v in report.items():\n",
    "    print(\"student:\", k)\n",
    "    if isinstance(v,dict):\n",
    "        for k1, v1 in v.items():\n",
    "            if isinstance(v1,dict):\n",
    "                for sub,marks in v1.items():\n",
    "                    print(sub,marks)\n",
    "            else:\n",
    "                print(v1)\n",
    "    else:\n",
    "        print(v)"
   ]
  },
  {
   "cell_type": "code",
   "execution_count": null,
   "metadata": {},
   "outputs": [],
   "source": []
  }
 ],
 "metadata": {
  "kernelspec": {
   "display_name": "Python 3.9.13 ('base')",
   "language": "python",
   "name": "python3"
  },
  "language_info": {
   "codemirror_mode": {
    "name": "ipython",
    "version": 3
   },
   "file_extension": ".py",
   "mimetype": "text/x-python",
   "name": "python",
   "nbconvert_exporter": "python",
   "pygments_lexer": "ipython3",
   "version": "3.9.13"
  },
  "orig_nbformat": 4,
  "vscode": {
   "interpreter": {
    "hash": "203ec5af3e26acf3e3c83a4183d4b4efe59642f60e2721ccf6236536a59ece46"
   }
  }
 },
 "nbformat": 4,
 "nbformat_minor": 2
}
