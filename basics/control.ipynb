{
 "cells": [
  {
   "cell_type": "code",
   "execution_count": null,
   "metadata": {},
   "outputs": [],
   "source": [
    "username = input('Enter name')\n",
    "password = input('Enter password')\n",
    "email = input('Enter email')\n",
    "if username == 'John Cena':\n",
    "    if password == 'qwerty':\n",
    "        if email == 'john@gmail.com':\n",
    "            print(\"Welcome to WWE 💪💪\")\n",
    "        else:\n",
    "            print(\"Wrong email\")\n",
    "    else:\n",
    "        print(\"Wrong password\")\n",
    "else:\n",
    "    print(\"Wrong username\")"
   ]
  },
  {
   "cell_type": "code",
   "execution_count": null,
   "metadata": {},
   "outputs": [],
   "source": [
    "username = input('Enter name')\n",
    "password = input('Enter password')\n",
    "email = input('Enter email')\n",
    "if username != 'John Cena':\n",
    "    print(\"wrong username\")\n",
    "elif password != 'qwerty':\n",
    "    print(\"wrong password\")\n",
    "elif email != 'john@gmail.com':\n",
    "    print(\"wrong email\")\n",
    "else:\n",
    "    print(\"Welcome to WWE 💪💪\")"
   ]
  },
  {
   "cell_type": "markdown",
   "metadata": {},
   "source": [
    "#### wap to calculate the grade of student based on marks, with following rules:\n",
    "- if marks >= 90, grade is A\n",
    "- if marks >= 80, grade is B\n",
    "- if marks >= 70, grade is C\n",
    "- if marks >= 60, grade is D\n",
    "- if marks < 60, grade is F\n",
    "- if marks is not a number, grade is \"Invalid\""
   ]
  },
  {
   "cell_type": "code",
   "execution_count": null,
   "metadata": {},
   "outputs": [],
   "source": [
    "marks = input(\"Enter marks: \")\n",
    "if marks.isnumeric():\n",
    "    marks = int(marks)\n",
    "    if marks >= 90:\n",
    "        print('A')\n",
    "    elif marks >= 80:\n",
    "        print('B')\n",
    "    elif marks >= 70:\n",
    "        print('C')\n",
    "    elif marks >= 60:\n",
    "        print('D')\n",
    "    else:\n",
    "        print('F')\n",
    "else:\n",
    "    print(\"Invalid marks\")"
   ]
  },
  {
   "cell_type": "code",
   "execution_count": 2,
   "metadata": {},
   "outputs": [
    {
     "data": {
      "text/plain": [
       "9"
      ]
     },
     "execution_count": 2,
     "metadata": {},
     "output_type": "execute_result"
    }
   ],
   "source": [
    "word = 'Volkwagen'\n",
    "len(word)"
   ]
  },
  {
   "cell_type": "markdown",
   "metadata": {},
   "source": [
    "string settings\n",
    "- `r` = raw string\n",
    "- `f` = formatted string\n",
    "- `b` = byte string"
   ]
  },
  {
   "cell_type": "code",
   "execution_count": 4,
   "metadata": {},
   "outputs": [
    {
     "data": {
      "text/plain": [
       "'C:\\\\Users\\\\ZAID\\\\Documents\\\\coding\\\\DP JUL PYDS WSS 100\\\\t2.py'"
      ]
     },
     "execution_count": 4,
     "metadata": {},
     "output_type": "execute_result"
    }
   ],
   "source": [
    "r\"C:\\Users\\ZAID\\Documents\\coding\\DP JUL PYDS WSS 100\\t2.py\""
   ]
  },
  {
   "cell_type": "code",
   "execution_count": 5,
   "metadata": {},
   "outputs": [
    {
     "name": "stdout",
     "output_type": "stream",
     "text": [
      "I can count 10 Birds on the roof\n"
     ]
    }
   ],
   "source": [
    "a = 10\n",
    "b = \"Birds\"\n",
    "print('I can count',a,b,'on the roof')"
   ]
  },
  {
   "cell_type": "code",
   "execution_count": 8,
   "metadata": {},
   "outputs": [
    {
     "name": "stdout",
     "output_type": "stream",
     "text": [
      "I can count 10 Birds on the roof\n"
     ]
    }
   ],
   "source": [
    "print(f'I can count {a} {b} on the roof')"
   ]
  },
  {
   "cell_type": "markdown",
   "metadata": {},
   "source": [
    "extra functional setting for `for loop`\n",
    "- enumerate\n",
    "- zip"
   ]
  },
  {
   "cell_type": "code",
   "execution_count": 10,
   "metadata": {},
   "outputs": [
    {
     "name": "stdout",
     "output_type": "stream",
     "text": [
      "apple\n",
      "banana\n",
      "cherry\n",
      "orange\n",
      "kiwi\n",
      "mango\n"
     ]
    }
   ],
   "source": [
    "fruits = ['apple','banana','cherry','orange','kiwi','mango']\n",
    "for fruit in fruits:\n",
    "    print(fruit)"
   ]
  },
  {
   "cell_type": "code",
   "execution_count": 11,
   "metadata": {},
   "outputs": [
    {
     "name": "stdout",
     "output_type": "stream",
     "text": [
      "(0, 'apple')\n",
      "(1, 'banana')\n",
      "(2, 'cherry')\n",
      "(3, 'orange')\n",
      "(4, 'kiwi')\n",
      "(5, 'mango')\n"
     ]
    }
   ],
   "source": [
    "for fruit in enumerate(fruits):\n",
    "    print(fruit)"
   ]
  },
  {
   "cell_type": "code",
   "execution_count": 12,
   "metadata": {},
   "outputs": [
    {
     "name": "stdout",
     "output_type": "stream",
     "text": [
      "0 apple\n",
      "1 banana\n",
      "2 cherry\n",
      "3 orange\n",
      "4 kiwi\n",
      "5 mango\n"
     ]
    }
   ],
   "source": [
    "for i, fruit in enumerate(fruits):\n",
    "    print(i,fruit)"
   ]
  },
  {
   "cell_type": "code",
   "execution_count": 14,
   "metadata": {},
   "outputs": [],
   "source": [
    "prices = [100,40,200,50,240,60]"
   ]
  },
  {
   "cell_type": "code",
   "execution_count": 16,
   "metadata": {},
   "outputs": [
    {
     "name": "stdout",
     "output_type": "stream",
     "text": [
      "apple => 100\n",
      "banana => 40\n",
      "cherry => 200\n",
      "orange => 50\n",
      "kiwi => 240\n",
      "mango => 60\n"
     ]
    }
   ],
   "source": [
    "for f,p in zip(fruits,prices):\n",
    "    print(f,'=>',p)"
   ]
  },
  {
   "cell_type": "code",
   "execution_count": 17,
   "metadata": {},
   "outputs": [],
   "source": [
    "qty = ['2 Kg','2 Dozens','1 Kg','1 Kg','1/2 Kg','5 Kg']"
   ]
  },
  {
   "cell_type": "code",
   "execution_count": 18,
   "metadata": {},
   "outputs": [
    {
     "name": "stdout",
     "output_type": "stream",
     "text": [
      "apple => 2 Kg for 100\n",
      "banana => 2 Dozens for 40\n",
      "cherry => 1 Kg for 200\n",
      "orange => 1 Kg for 50\n",
      "kiwi => 1/2 Kg for 240\n",
      "mango => 5 Kg for 60\n"
     ]
    }
   ],
   "source": [
    "for f,p,q in zip(fruits,prices,qty):\n",
    "    print(f,'=>',q,'for',p)"
   ]
  },
  {
   "cell_type": "code",
   "execution_count": null,
   "metadata": {},
   "outputs": [],
   "source": []
  }
 ],
 "metadata": {
  "kernelspec": {
   "display_name": "Python 3.9.13 ('base')",
   "language": "python",
   "name": "python3"
  },
  "language_info": {
   "codemirror_mode": {
    "name": "ipython",
    "version": 3
   },
   "file_extension": ".py",
   "mimetype": "text/x-python",
   "name": "python",
   "nbconvert_exporter": "python",
   "pygments_lexer": "ipython3",
   "version": "3.9.13"
  },
  "orig_nbformat": 4,
  "vscode": {
   "interpreter": {
    "hash": "203ec5af3e26acf3e3c83a4183d4b4efe59642f60e2721ccf6236536a59ece46"
   }
  }
 },
 "nbformat": 4,
 "nbformat_minor": 2
}
