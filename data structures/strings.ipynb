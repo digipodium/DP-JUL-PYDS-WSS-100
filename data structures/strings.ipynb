{
 "cells": [
  {
   "cell_type": "code",
   "execution_count": 1,
   "metadata": {},
   "outputs": [],
   "source": [
    "name = \"Alex Mason\"\n",
    "age = 50\n",
    "items= ['Apple', 'Banana', 'Cherry']"
   ]
  },
  {
   "cell_type": "markdown",
   "metadata": {},
   "source": [
    "### formatting functions"
   ]
  },
  {
   "cell_type": "code",
   "execution_count": 2,
   "metadata": {},
   "outputs": [],
   "source": [
    "msg = 'This Is A message from VERY imporTANT person'"
   ]
  },
  {
   "cell_type": "code",
   "execution_count": 3,
   "metadata": {},
   "outputs": [
    {
     "name": "stdout",
     "output_type": "stream",
     "text": [
      "THIS IS A MESSAGE FROM VERY IMPORTANT PERSON\n",
      "this is a message from very important person\n",
      "This Is A Message From Very Important Person\n",
      "This is a message from very important person\n",
      "this is a message from very important person\n",
      "tHIS iS a MESSAGE FROM very IMPORtant PERSON\n",
      "This Is A message from VERY imporTANT person\n"
     ]
    }
   ],
   "source": [
    "print(msg.upper())\n",
    "print(msg.lower())\n",
    "print(msg.title())\n",
    "print(msg.capitalize()) \n",
    "print(msg.casefold())\n",
    "print(msg.swapcase())\n",
    "print(msg)"
   ]
  },
  {
   "cell_type": "code",
   "execution_count": 4,
   "metadata": {},
   "outputs": [
    {
     "name": "stdout",
     "output_type": "stream",
     "text": [
      "THIS IS A MESSAGE FROM VERY IMPORTANT PERSON\n",
      "this is a message from very important person\n"
     ]
    }
   ],
   "source": [
    "msg = msg.upper()\n",
    "print(msg)\n",
    "msg = msg.lower()\n",
    "print(msg)"
   ]
  },
  {
   "cell_type": "code",
   "execution_count": 5,
   "metadata": {},
   "outputs": [
    {
     "data": {
      "text/plain": [
       "44"
      ]
     },
     "execution_count": 5,
     "metadata": {},
     "output_type": "execute_result"
    }
   ],
   "source": [
    "len(msg)"
   ]
  },
  {
   "cell_type": "code",
   "execution_count": 6,
   "metadata": {},
   "outputs": [
    {
     "name": "stdout",
     "output_type": "stream",
     "text": [
      "this is a message from very important person\n"
     ]
    }
   ],
   "source": [
    "print(msg)"
   ]
  },
  {
   "cell_type": "code",
   "execution_count": 7,
   "metadata": {},
   "outputs": [
    {
     "name": "stdout",
     "output_type": "stream",
     "text": [
      "this is a message from very important person                                    \n"
     ]
    }
   ],
   "source": [
    "print(msg.ljust(80))"
   ]
  },
  {
   "cell_type": "code",
   "execution_count": 8,
   "metadata": {},
   "outputs": [
    {
     "name": "stdout",
     "output_type": "stream",
     "text": [
      "                                    this is a message from very important person\n"
     ]
    }
   ],
   "source": [
    "print(msg.rjust(80))"
   ]
  },
  {
   "cell_type": "code",
   "execution_count": 9,
   "metadata": {},
   "outputs": [
    {
     "name": "stdout",
     "output_type": "stream",
     "text": [
      "                  this is a message from very important person                  \n"
     ]
    }
   ],
   "source": [
    "print(msg.center(80))"
   ]
  },
  {
   "cell_type": "code",
   "execution_count": 25,
   "metadata": {},
   "outputs": [],
   "source": [
    "long_msg = '''\n",
    "Visual Studio Code is a lightweight \n",
    "but powerful source code editor which \n",
    "runs on your desktop and is available \n",
    "for Windows, macOS and Linux. \n",
    "It comes with built-in support for JavaScript,\n",
    "TypeScript and Node.js and has a rich ecosystem \n",
    "of extensions for other languages and runtimes \n",
    "'''"
   ]
  },
  {
   "cell_type": "code",
   "execution_count": 17,
   "metadata": {},
   "outputs": [
    {
     "data": {
      "text/plain": [
       "'\\nVisual Studio Code is a lightweight \\nbut powerful source code editor which \\nruns on your desktop and is available \\nfor Windows, macOS and Linux. \\nIt comes with built-in support for JavaScript,\\nTypeScript and Node.js and has a rich ecosystem \\nof extensions for other languages and runtimes \\n'"
      ]
     },
     "execution_count": 17,
     "metadata": {},
     "output_type": "execute_result"
    }
   ],
   "source": [
    "long_msg"
   ]
  },
  {
   "cell_type": "code",
   "execution_count": 16,
   "metadata": {},
   "outputs": [
    {
     "name": "stdout",
     "output_type": "stream",
     "text": [
      "                                                                                                                                  \n",
      "                                               Visual Studio Code is a lightweight                                                \n",
      "                                              but powerful source code editor which                                               \n",
      "                                              runs on your desktop and is available                                               \n",
      "                                                  for Windows, macOS and Linux.                                                   \n",
      "                                          It comes with built-in support for JavaScript,                                          \n",
      "                                         TypeScript and Node.js and has a rich ecosystem                                          \n",
      "                                         of extensions for other languages and runtimes                                           \n",
      "                                                                                                                                  \n"
     ]
    }
   ],
   "source": [
    "for line in long_msg.split('\\n'):\n",
    "    print(line.center(130))"
   ]
  },
  {
   "cell_type": "code",
   "execution_count": 20,
   "metadata": {},
   "outputs": [
    {
     "data": {
      "text/plain": [
       "['this is a m', 'ssag', ' from v', 'ry important p', 'rson']"
      ]
     },
     "execution_count": 20,
     "metadata": {},
     "output_type": "execute_result"
    }
   ],
   "source": [
    "msg.split('e')"
   ]
  },
  {
   "cell_type": "code",
   "execution_count": 23,
   "metadata": {},
   "outputs": [
    {
     "data": {
      "text/plain": [
       "['',\n",
       " 'Visual Studio Code is a lightweight ',\n",
       " 'but powerful source code editor which ',\n",
       " 'runs on your desktop and is available ',\n",
       " 'for Windows, macOS and Linux. ',\n",
       " 'It comes with built-in support for JavaScript,',\n",
       " 'TypeScript and Node.js and has a rich ecosystem ',\n",
       " 'of extensions for other languages and runtimes ',\n",
       " '']"
      ]
     },
     "execution_count": 23,
     "metadata": {},
     "output_type": "execute_result"
    }
   ],
   "source": [
    "long_msg.split('\\n')"
   ]
  },
  {
   "cell_type": "code",
   "execution_count": 28,
   "metadata": {},
   "outputs": [
    {
     "data": {
      "text/plain": [
       "['this', 'is', 'a', 'message from very important person']"
      ]
     },
     "execution_count": 28,
     "metadata": {},
     "output_type": "execute_result"
    }
   ],
   "source": [
    "msg.split(maxsplit=3)"
   ]
  },
  {
   "cell_type": "code",
   "execution_count": 29,
   "metadata": {},
   "outputs": [
    {
     "data": {
      "text/plain": [
       "['this is a message from', 'very', 'important', 'person']"
      ]
     },
     "execution_count": 29,
     "metadata": {},
     "output_type": "execute_result"
    }
   ],
   "source": [
    "msg.rsplit(maxsplit=3)"
   ]
  },
  {
   "cell_type": "code",
   "execution_count": 30,
   "metadata": {},
   "outputs": [
    {
     "data": {
      "text/plain": [
       "'\\nVisual Studio Code is a lightweight \\nbut powerful source code editor which \\nruns on your desktop and is available \\nfor Windows, macOS and Linux. \\nIt comes with built-in support for JavaScript,\\nTypeScript and Node.js and has a rich ecosystem \\nof extensions for other languages and runtimes \\n'"
      ]
     },
     "execution_count": 30,
     "metadata": {},
     "output_type": "execute_result"
    }
   ],
   "source": [
    "long_msg"
   ]
  },
  {
   "cell_type": "code",
   "execution_count": 32,
   "metadata": {},
   "outputs": [
    {
     "name": "stdout",
     "output_type": "stream",
     "text": [
      "13    alexander \n",
      "9 alexander\n"
     ]
    }
   ],
   "source": [
    "name = input(\"what is ur name? \")\n",
    "print(len(name), name)\n",
    "name = name.strip()\n",
    "print(len(name), name)"
   ]
  },
  {
   "cell_type": "code",
   "execution_count": 34,
   "metadata": {},
   "outputs": [
    {
     "name": "stdout",
     "output_type": "stream",
     "text": [
      "291\n",
      "288\n"
     ]
    }
   ],
   "source": [
    "print(len(long_msg))\n",
    "long_msg =  long_msg.strip()\n",
    "print(len(long_msg))"
   ]
  },
  {
   "cell_type": "code",
   "execution_count": 36,
   "metadata": {},
   "outputs": [
    {
     "data": {
      "text/plain": [
       "'OLA'"
      ]
     },
     "execution_count": 36,
     "metadata": {},
     "output_type": "execute_result"
    }
   ],
   "source": [
    "data = \"0000000000000OLA00000\"\n",
    "data.strip('0')"
   ]
  },
  {
   "cell_type": "code",
   "execution_count": 37,
   "metadata": {},
   "outputs": [
    {
     "data": {
      "text/plain": [
       "'this is ------- not -------good'"
      ]
     },
     "execution_count": 37,
     "metadata": {},
     "output_type": "execute_result"
    }
   ],
   "source": [
    "data = '----------this is ------- not -------good-----------'\n",
    "data.strip('-')"
   ]
  },
  {
   "cell_type": "code",
   "execution_count": 38,
   "metadata": {},
   "outputs": [
    {
     "name": "stdout",
     "output_type": "stream",
     "text": [
      "this is ------- not -------good\n",
      "this is ------- not -------good-----------\n",
      "----------this is ------- not -------good\n"
     ]
    }
   ],
   "source": [
    "print(data.strip('-'))\n",
    "print(data.lstrip('-'))\n",
    "print(data.rstrip('-'))\n"
   ]
  },
  {
   "cell_type": "code",
   "execution_count": 42,
   "metadata": {},
   "outputs": [
    {
     "name": "stdout",
     "output_type": "stream",
     "text": [
      "Visual Studio Code is a lightweight \n",
      "but powerful source code editor which \n",
      "runs on your desktop and is available \n",
      "for Windows, macOS and Linux. \n",
      "It comes with built-in support for JavaScript,\n",
      "TypeScript and Node.js and has a rich ecosystem \n",
      "of extensions for other languages and runtimes\n",
      "updated--------------------->\n",
      "Vosual Studoo Code os a loghtweoght \n",
      "but powerful source code edotor whoch \n",
      "runs on your desktop and os avaolable \n",
      "for Wondows, macOS and Lonux. \n",
      "It comes woth buolt-on support for JavaScropt,\n",
      "TypeScropt and Node.js and has a roch ecosystem \n",
      "of extensoons for other languages and runtomes\n"
     ]
    }
   ],
   "source": [
    "print(long_msg)\n",
    "print('updated--------------------->')\n",
    "print(long_msg.replace('i','o'))"
   ]
  },
  {
   "cell_type": "code",
   "execution_count": 44,
   "metadata": {},
   "outputs": [
    {
     "name": "stdout",
     "output_type": "stream",
     "text": [
      "this is  not good\n"
     ]
    }
   ],
   "source": [
    "data_clean = data.replace('-','')\n",
    "print(data_clean)"
   ]
  },
  {
   "cell_type": "code",
   "execution_count": 46,
   "metadata": {},
   "outputs": [
    {
     "name": "stdout",
     "output_type": "stream",
     "text": [
      "17\n"
     ]
    }
   ],
   "source": [
    "print(long_msg.count('a'))"
   ]
  },
  {
   "cell_type": "code",
   "execution_count": 47,
   "metadata": {},
   "outputs": [
    {
     "name": "stdout",
     "output_type": "stream",
     "text": [
      "0\n"
     ]
    }
   ],
   "source": [
    "print(long_msg.count('this'))"
   ]
  },
  {
   "cell_type": "code",
   "execution_count": 49,
   "metadata": {},
   "outputs": [
    {
     "name": "stdout",
     "output_type": "stream",
     "text": [
      "1\n"
     ]
    }
   ],
   "source": [
    "print(long_msg.count('Visual'))"
   ]
  },
  {
   "cell_type": "code",
   "execution_count": 2,
   "metadata": {},
   "outputs": [
    {
     "data": {
      "text/plain": [
       "-1"
      ]
     },
     "execution_count": 2,
     "metadata": {},
     "output_type": "execute_result"
    }
   ],
   "source": [
    "long_msg.find('this')"
   ]
  },
  {
   "cell_type": "code",
   "execution_count": 7,
   "metadata": {},
   "outputs": [
    {
     "data": {
      "text/plain": [
       "2"
      ]
     },
     "execution_count": 7,
     "metadata": {},
     "output_type": "execute_result"
    }
   ],
   "source": [
    "long_msg.find('is')"
   ]
  },
  {
   "cell_type": "code",
   "execution_count": 8,
   "metadata": {},
   "outputs": [
    {
     "name": "stdout",
     "output_type": "stream",
     "text": [
      "\n",
      "Visual Studio Code is a lightweight \n",
      "but powerful source code editor which \n",
      "runs on your desktop and is available \n",
      "for Windows, macOS and Linux. \n",
      "It comes with built-in support for JavaScript,\n",
      "TypeScript and Node.js and has a rich ecosystem \n",
      "of extensions for other languages and runtimes \n",
      "\n"
     ]
    }
   ],
   "source": [
    "print(long_msg)"
   ]
  },
  {
   "cell_type": "code",
   "execution_count": 9,
   "metadata": {},
   "outputs": [
    {
     "data": {
      "text/plain": [
       "102"
      ]
     },
     "execution_count": 9,
     "metadata": {},
     "output_type": "execute_result"
    }
   ],
   "source": [
    "long_msg.rfind('is')"
   ]
  },
  {
   "cell_type": "markdown",
   "metadata": {},
   "source": [
    "search all occurance of substr and display"
   ]
  },
  {
   "cell_type": "code",
   "execution_count": 11,
   "metadata": {},
   "outputs": [
    {
     "name": "stdout",
     "output_type": "stream",
     "text": [
      "2\n",
      "20\n",
      "102\n"
     ]
    }
   ],
   "source": [
    "q = 'is'\n",
    "start = 0\n",
    "while True:\n",
    "    pos = long_msg.find(q, start)\n",
    "    start = pos + 1\n",
    "    if pos == -1:\n",
    "        break\n",
    "    print(pos)"
   ]
  },
  {
   "cell_type": "code",
   "execution_count": 13,
   "metadata": {},
   "outputs": [
    {
     "name": "stdout",
     "output_type": "stream",
     "text": [
      "vowel a : 5\n",
      "vowel a : 23\n",
      "vowel a : 98\n",
      "vowel a : 105\n",
      "vowel a : 107\n",
      "vowel a : 110\n",
      "vowel a : 130\n",
      "vowel a : 135\n",
      "vowel a : 183\n",
      "vowel a : 185\n",
      "vowel a : 205\n",
      "vowel a : 217\n",
      "vowel a : 222\n",
      "vowel a : 225\n",
      "vowel a : 268\n",
      "vowel a : 272\n",
      "vowel a : 277\n",
      "vowel e : 18\n",
      "vowel e : 31\n",
      "vowel e : 45\n",
      "vowel e : 56\n",
      "vowel e : 61\n",
      "vowel e : 63\n",
      "vowel e : 91\n",
      "vowel e : 113\n",
      "vowel e : 153\n",
      "vowel e : 197\n",
      "vowel e : 212\n",
      "vowel e : 232\n",
      "vowel e : 239\n",
      "vowel e : 246\n",
      "vowel e : 249\n",
      "vowel e : 264\n",
      "vowel e : 274\n",
      "vowel e : 287\n",
      "vowel i : 2\n",
      "vowel i : 12\n",
      "vowel i : 20\n",
      "vowel i : 26\n",
      "vowel i : 32\n",
      "vowel i : 65\n",
      "vowel i : 72\n",
      "vowel i : 102\n",
      "vowel i : 108\n",
      "vowel i : 121\n",
      "vowel i : 140\n",
      "vowel i : 157\n",
      "vowel i : 163\n",
      "vowel i : 167\n",
      "vowel i : 189\n",
      "vowel i : 201\n",
      "vowel i : 228\n",
      "vowel i : 252\n",
      "vowel i : 285\n",
      "vowel o : 13\n",
      "vowel o : 16\n",
      "vowel o : 43\n",
      "vowel o : 52\n",
      "vowel o : 59\n",
      "vowel o : 67\n",
      "vowel o : 82\n",
      "vowel o : 86\n",
      "vowel o : 95\n",
      "vowel o : 117\n",
      "vowel o : 124\n",
      "vowel o : 151\n",
      "vowel o : 174\n",
      "vowel o : 179\n",
      "vowel o : 210\n",
      "vowel o : 234\n",
      "vowel o : 243\n",
      "vowel o : 253\n",
      "vowel o : 258\n",
      "vowel o : 261\n",
      "vowel u : 4\n",
      "vowel u : 10\n",
      "vowel u : 39\n",
      "vowel u : 48\n",
      "vowel u : 53\n",
      "vowel u : 78\n",
      "vowel u : 87\n",
      "vowel u : 142\n",
      "vowel u : 162\n",
      "vowel u : 171\n",
      "vowel u : 271\n",
      "vowel u : 282\n"
     ]
    }
   ],
   "source": [
    "for vowel in \"aeiou\":\n",
    "    start = 0\n",
    "    while True:\n",
    "        pos = long_msg.find(vowel, start)\n",
    "        start = pos + 1\n",
    "        if pos == -1:\n",
    "            break\n",
    "        print(f\"vowel {vowel} : {pos}\")"
   ]
  },
  {
   "cell_type": "code",
   "execution_count": 15,
   "metadata": {},
   "outputs": [
    {
     "name": "stdout",
     "output_type": "stream",
     "text": [
      "hello\n",
      "numeric: False\n",
      "alphabets: True\n",
      "alphanumeric: True\n",
      "only spaces: False\n",
      "only uppercase: False\n",
      "only lowercase True\n",
      "capitalized: False\n",
      "Decimal numbers: False\n"
     ]
    }
   ],
   "source": [
    "msg = input(\"enter anything\")\n",
    "print(msg)\n",
    "print(\"numeric:\", msg.isnumeric())\n",
    "print(\"alphabets:\", msg.isalpha())\n",
    "print(\"alphanumeric:\", msg.isalnum())\n",
    "print(\"only spaces:\", msg.isspace())\n",
    "print(\"only uppercase:\", msg.isupper())\n",
    "print(\"only lowercase\", msg.islower())\n",
    "print(\"capitalized:\", msg.istitle())\n",
    "print(\"Decimal numbers:\",msg.isdecimal())"
   ]
  },
  {
   "cell_type": "markdown",
   "metadata": {},
   "source": [
    "vowel count"
   ]
  },
  {
   "cell_type": "code",
   "execution_count": 17,
   "metadata": {},
   "outputs": [
    {
     "name": "stdout",
     "output_type": "stream",
     "text": [
      "a : 17\n",
      "e : 18\n",
      "i : 19\n",
      "o : 20\n",
      "u : 12\n"
     ]
    }
   ],
   "source": [
    "vowels = \"aeiou\"\n",
    "for v in vowels:\n",
    "    c = long_msg.count(v)\n",
    "    print(f'{v} : {c}')"
   ]
  },
  {
   "cell_type": "markdown",
   "metadata": {},
   "source": [
    "remove all vowels"
   ]
  },
  {
   "cell_type": "code",
   "execution_count": 19,
   "metadata": {},
   "outputs": [
    {
     "name": "stdout",
     "output_type": "stream",
     "text": [
      "\n",
      "Vsl Std Cd s  lghtwght \n",
      "bt pwrfl src cd dtr whch \n",
      "rns n yr dsktp nd s vlbl \n",
      "fr Wndws, mcS nd Lnx. \n",
      "t cms wth blt-n spprt fr JvScrpt,\n",
      "TypScrpt nd Nd.js nd hs  rch csystm \n",
      "f xtnsns fr thr lnggs nd rntms \n",
      "\n"
     ]
    }
   ],
   "source": [
    "msg = long_msg # copy the string\n",
    "vowels = \"aeiouAEIOU\"\n",
    "for v in vowels:\n",
    "    msg = msg.replace(v, '')\n",
    "print(msg)    "
   ]
  },
  {
   "cell_type": "markdown",
   "metadata": {},
   "source": [
    "n word slice"
   ]
  },
  {
   "cell_type": "code",
   "execution_count": 24,
   "metadata": {},
   "outputs": [
    {
     "name": "stdout",
     "output_type": "stream",
     "text": [
      "['Visual', 'Studio', 'Code', 'is', 'a', 'lightweight', 'but', 'powerful', 'source', 'code', 'editor', 'which', 'runs', 'on', 'your', 'desktop', 'and', 'is', 'available', 'for', 'Windows,', 'macOS', 'and', 'Linux.', 'It', 'comes', 'with', 'built-in', 'support', 'for']\n"
     ]
    }
   ],
   "source": [
    "word_count = int(input(\"how many words? \"))\n",
    "words = long_msg.split()[:word_count]\n",
    "print(words)"
   ]
  },
  {
   "cell_type": "code",
   "execution_count": 30,
   "metadata": {},
   "outputs": [
    {
     "name": "stdout",
     "output_type": "stream",
     "text": [
      "Visual 6\n",
      "Studio 6\n",
      "Code 4\n",
      "is 2\n",
      "a 1\n",
      "lightweight 11\n",
      "but 3\n",
      "powerful 8\n",
      "source 6\n",
      "code 4\n",
      "editor 6\n",
      "which 5\n",
      "runs 4\n",
      "on 2\n",
      "your 4\n",
      "desktop 7\n",
      "and 3\n",
      "is 2\n",
      "available 9\n",
      "for 3\n",
      "Windows, 8\n",
      "macOS 5\n",
      "and 3\n",
      "Linux. 6\n",
      "It 2\n",
      "comes 5\n",
      "with 4\n",
      "built-in 8\n",
      "support 7\n",
      "for 3\n",
      "JavaScript, 11\n",
      "TypeScript 10\n",
      "and 3\n",
      "Node.js 7\n",
      "and 3\n",
      "has 3\n",
      "a 1\n",
      "rich 4\n",
      "ecosystem 9\n",
      "of 2\n",
      "extensions 10\n",
      "for 3\n",
      "other 5\n",
      "languages 9\n",
      "and 3\n",
      "runtimes 8\n",
      "biggest word is lightweight with 11 characters\n"
     ]
    }
   ],
   "source": [
    "m = 0\n",
    "w = 0\n",
    "for word in long_msg.split():\n",
    "    print(word, len(word))\n",
    "    if len(word) > m:\n",
    "        m = len(word)\n",
    "        w = word\n",
    "\n",
    "print(f'biggest word is {w} with {m} characters')"
   ]
  },
  {
   "cell_type": "code",
   "execution_count": null,
   "metadata": {},
   "outputs": [],
   "source": []
  }
 ],
 "metadata": {
  "kernelspec": {
   "display_name": "Python 3.9.13 ('base')",
   "language": "python",
   "name": "python3"
  },
  "language_info": {
   "codemirror_mode": {
    "name": "ipython",
    "version": 3
   },
   "file_extension": ".py",
   "mimetype": "text/x-python",
   "name": "python",
   "nbconvert_exporter": "python",
   "pygments_lexer": "ipython3",
   "version": "3.9.13"
  },
  "orig_nbformat": 4,
  "vscode": {
   "interpreter": {
    "hash": "203ec5af3e26acf3e3c83a4183d4b4efe59642f60e2721ccf6236536a59ece46"
   }
  }
 },
 "nbformat": 4,
 "nbformat_minor": 2
}
